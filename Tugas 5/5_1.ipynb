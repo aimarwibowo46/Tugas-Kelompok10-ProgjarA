{
  "nbformat": 4,
  "nbformat_minor": 0,
  "metadata": {
    "colab": {
      "name": "5_1",
      "provenance": []
    },
    "kernelspec": {
      "name": "python3",
      "display_name": "Python 3"
    },
    "language_info": {
      "name": "python"
    }
  },
  "cells": [
    {
      "cell_type": "code",
      "execution_count": 1,
      "metadata": {
        "id": "LYNCiGNhBO70"
      },
      "outputs": [],
      "source": [
        "from urllib.parse import urljoin\n",
        "from bs4 import BeautifulSoup\n",
        "import requests"
      ]
    },
    {
      "cell_type": "code",
      "source": [
        "def get_soup(url):\n",
        "    return BeautifulSoup(requests.get(url).text, 'html.parser')"
      ],
      "metadata": {
        "id": "_ePZM2mkEbNf"
      },
      "execution_count": 2,
      "outputs": []
    },
    {
      "cell_type": "code",
      "source": [
        "def getGoBlog(num):\n",
        "    soup = get_soup(\"https://go.dev/doc/\")\n",
        "    #Get value tag a with beautifoulsoup in article tag\n",
        "    tag = soup.find_all('article')\n",
        "    \n",
        "    #Get value tag a with beautifulsoup in article tag\n",
        "    tag_a = tag[0].find_all('a')\n",
        "    \n",
        "    total=1\n",
        "    for i in tag_a:\n",
        "\n",
        "        #Get value tag a with beautifulsoup in article tag\n",
        "        tag_a_text = i.get_text()\n",
        "        print(\"{}. akan mengambil: {}\".format(total, tag_a_text))\n",
        "        total+=1\n",
        "        if total == num+1:\n",
        "            break\n",
        "    \n",
        "    return True"
      ],
      "metadata": {
        "id": "OaKi4QXsEgaN"
      },
      "execution_count": 3,
      "outputs": []
    },
    {
      "cell_type": "code",
      "source": [
        "def main():\n",
        "    msg = input(\"> Jumlah link yang ingin di ambil: \")\n",
        "    getGoBlog(int(msg))"
      ],
      "metadata": {
        "id": "k0pqjJBfEoNa"
      },
      "execution_count": 4,
      "outputs": []
    },
    {
      "cell_type": "code",
      "source": [
        "if __name__ == '__main__':\n",
        "    main()"
      ],
      "metadata": {
        "colab": {
          "base_uri": "https://localhost:8080/"
        },
        "id": "7WHKfiD8EsnG",
        "outputId": "be8bbf6c-7bf2-47f3-eede-fa3fd6f31241"
      },
      "execution_count": 5,
      "outputs": [
        {
          "output_type": "stream",
          "name": "stdout",
          "text": [
            "> Jumlah link yang ingin di ambil: 2\n",
            "1. akan mengambil: Installing Go\n",
            "2. akan mengambil: Tutorial: Getting started\n"
          ]
        }
      ]
    }
  ]
}